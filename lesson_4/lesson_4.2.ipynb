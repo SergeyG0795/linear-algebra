{
 "cells": [
  {
   "cell_type": "code",
   "execution_count": 1,
   "metadata": {
    "ExecuteTime": {
     "end_time": "2019-09-21T11:54:21.177758Z",
     "start_time": "2019-09-21T11:54:21.010827Z"
    },
    "id": "v1MDkR7GBdvi"
   },
   "outputs": [],
   "source": [
    "import numpy as np\n",
    "import scipy.linalg"
   ]
  },
  {
   "cell_type": "markdown",
   "metadata": {
    "id": "AZ7tifYIBdwS"
   },
   "source": [
    "#### __1.__ Решить систему уравнений методом Крамера:\n",
    "\n",
    "   а) $\\begin{cases}\n",
    "x_{1}-2x_{2}=1 \\\\\n",
    "3x_{1}-4x_{2}=7\n",
    "\\end{cases}$\n",
    "    \n",
    "  "
   ]
  },
  {
   "cell_type": "code",
   "execution_count": 2,
   "metadata": {
    "id": "BxE8xV69GtE0"
   },
   "outputs": [],
   "source": [
    "def kramer_solv(matrix_A, vector_b):\n",
    "    det_A = np.linalg.det(matrix_A)\n",
    "    n = len(matrix_A[0])\n",
    "    result = np.arange(n, dtype=float)\n",
    "    \n",
    "    for i in range(n):\n",
    "        if i == 0:\n",
    "            matrix_A_i = np.column_stack([vector_b, matrix_A[:, i + 1 :]])\n",
    "        elif i == n - 1:\n",
    "            matrix_A_i = np.column_stack([matrix_A[:, :i], vector_b])\n",
    "        else:\n",
    "            matrix_A_i = np.column_stack([matrix_A[:, :i], vector_b, matrix_A[:, i + 1:]])\n",
    "\n",
    "        det_A_i = np.linalg.det(matrix_A_i)\n",
    "        result[i] = det_A_i / det_A\n",
    "    \n",
    "    return result"
   ]
  },
  {
   "cell_type": "code",
   "execution_count": 3,
   "metadata": {
    "id": "t3rum5mXGtE5",
    "outputId": "1f3f82cc-ac6f-407e-c3e8-4425d48d612f"
   },
   "outputs": [
    {
     "name": "stdout",
     "output_type": "stream",
     "text": [
      "[5. 2.]\n"
     ]
    }
   ],
   "source": [
    "A = np.array([[1, -2], [3, -4]])\n",
    "b = np.array([1, 7])\n",
    "\n",
    "print(kramer_solv(A, b))"
   ]
  },
  {
   "cell_type": "markdown",
   "metadata": {},
   "source": [
    " б) $\\begin{cases}\n",
    "2x_{1}-x_{2}+5x_{3}=10 \\\\\n",
    "x_{1}+x_{2}-3x_{3}=-2 \\\\\n",
    "2x_{1}+4x_{2}+x_{3}=1\n",
    "\\end{cases}$"
   ]
  },
  {
   "cell_type": "code",
   "execution_count": 4,
   "metadata": {
    "id": "_Xkq2bJqGtF7",
    "outputId": "2b8c8a76-4cfe-44ac-9841-df33948a5f2d"
   },
   "outputs": [
    {
     "name": "stdout",
     "output_type": "stream",
     "text": [
      "[ 2. -1.  1.]\n"
     ]
    }
   ],
   "source": [
    "A = np.array([[2, -1, 5], [1, 1, -3], [2, 4, 1]])\n",
    "b = np.array([10, -2, 1])\n",
    "\n",
    "print(kramer_solv(A, b))"
   ]
  },
  {
   "cell_type": "markdown",
   "metadata": {
    "id": "CrivgYVGBdwm"
   },
   "source": [
    "#### __2.__ Найти $L$-матрицу $LU$-разложения для матрицы коэффициентов:\n",
    "\n",
    "   а)$$\\begin{pmatrix}\n",
    "1 & 2 & 4 \\\\ \n",
    "2 & 9 & 12 \\\\ \n",
    "3 & 26 & 30\n",
    "\\end{pmatrix}\n",
    "\\Rightarrow\n",
    "U = \\begin{pmatrix}\n",
    "1 & 2 & 4 \\\\ \n",
    "0 & 5 & 4 \\\\ \n",
    "0 & 0 & 2\n",
    "\\end{pmatrix}; \n",
    "L =\\begin{pmatrix}\n",
    "1 & 0 & 0 \\\\ \n",
    "2 & 1 & 0 \\\\ \n",
    "3 & 4 & 1\n",
    "\\end{pmatrix}$$\n",
    "    \n",
    "   б)$$\\begin{pmatrix}\n",
    "1 & 1 & 2 & 4\\\\ \n",
    "2 & 5 & 8 & 9\\\\ \n",
    "3 & 18 & 29 & 18\\\\\n",
    "4 & 22 & 53 & 33\n",
    "\\end{pmatrix}\n",
    "\\Rightarrow\n",
    "U = \\begin{pmatrix}\n",
    "1 & 1 & 2 & 4 \\\\ \n",
    "0 & 3 & 4 & 1 \\\\ \n",
    "0 & 0 & 3 & 1 \\\\\n",
    "0 & 0 & 0 & 4\n",
    "\\end{pmatrix};\n",
    "L = \\begin{pmatrix}\n",
    "1 & 0 & 0 & 0 \\\\ \n",
    "2 & 1 & 0 & 0 \\\\ \n",
    "3 & 5 & 1 & 0 \\\\\n",
    "4 & 6 & 7 & 1\n",
    "\\end{pmatrix}$$"
   ]
  },
  {
   "cell_type": "markdown",
   "metadata": {
    "id": "kOix8yCpBdw8"
   },
   "source": [
    "#### __3.__ Решить систему линейных уравнений методом $LU$-разложения\n",
    "\n",
    "$$\\begin{cases}\n",
    "2x_{1}+x_{2}+3x_{3}=1 \\\\\n",
    "11x_{1}+7x_{2}+5x_{3}=-6 \\\\\n",
    "9x_{1}+8x_{2}+4x_{3}=-5\n",
    "\\end{cases}$$"
   ]
  },
  {
   "cell_type": "markdown",
   "metadata": {
    "id": "r4BHMn6PBdxA"
   },
   "source": [
    "### $$L=\\begin{pmatrix}\n",
    "1 & 0 & 0 \\\\ \n",
    "\\frac{11}{2} & 1 & 0 \\\\ \n",
    "\\frac{9}{2} & \\frac{7}{3} & 1\n",
    "\\end{pmatrix}\n",
    "\\Leftarrow\n",
    "\\begin{pmatrix}\n",
    "\\left.\\begin{matrix}\n",
    "2 & 1 & 3\\\\ \n",
    "11 & 7 & 5\\\\ \n",
    "9 & 8 & 4\n",
    "\\end{matrix}\n",
    "\\right|\\begin{matrix}\n",
    "1\\\\ \n",
    "-6\\\\\n",
    "-5\n",
    "\\end{matrix}\n",
    "\\end{pmatrix}\n",
    "\\Rightarrow\n",
    "\\begin{pmatrix}\n",
    "2 & 1 & 3 \\\\ \n",
    "0 & \\frac{3}{2} & -\\frac{23}{2} \\\\ \n",
    "0 & 0 & \\frac{52}{3}\n",
    "\\end{pmatrix}=U$$\n",
    "\n",
    "Решим систему $Ly=b$:\n",
    "\n",
    "### $$\\begin{cases}\n",
    "y_1=1 \\\\\n",
    "\\frac{11}{2}y_{1}+y_2=-6 \\\\\n",
    "\\frac{9}{2}y_{1}+\\frac{7}{3}y_{2}+y_{3}=-5\n",
    "\\end{cases}\n",
    "\\,\\,\\,\\,\\,\\Rightarrow \\,\\,\\,\\,\\,\n",
    "\\begin{cases}\n",
    "y_1=1 \\\\\n",
    "y_2=-\\frac{23}{2} \\\\\n",
    "y_{3}=\\frac{52}{3}\n",
    "\\end{cases}$$\n",
    "\n",
    "Решим систему $Ux=y$:\n",
    "### $$\\begin{cases}\n",
    "2x_1+x_2+3x_3=1 \\\\\n",
    "\\frac{3}{2}x_2-\\frac{23}{2}x_3=-\\frac{23}{2} \\\\\n",
    "\\frac{52}{3}x_3=\\frac{52}{3}\n",
    "\\end{cases}\n",
    "\\,\\,\\,\\,\\,\\Rightarrow \\,\\,\\,\\,\\,\n",
    "\\begin{cases}\n",
    "x_1=-1 \\\\\n",
    "x_2=0 \\\\\n",
    "x_3=1\n",
    "\\end{cases}$$\n",
    "Ответ: $(-1,0,1)$"
   ]
  },
  {
   "cell_type": "markdown",
   "metadata": {
    "id": "F8dy_YrRBdxC"
   },
   "source": [
    "#### __4.__ Решить систему линейных уравнений методом Холецкого\n",
    "\n",
    "$$\\begin{cases}\n",
    "81x_{1}-45x_{2}+45x_{3}=531 \\\\\n",
    "-45x_{1}+50x_{2}-15x_{3}=-460 \\\\\n",
    "45x_{1}-15x_{2}+38x_{3}=193\n",
    "\\end{cases}$$"
   ]
  },
  {
   "cell_type": "markdown",
   "metadata": {
    "id": "5rSfAb2WBdxF"
   },
   "source": [
    "$$l_{11}=\\sqrt{a_{11}}=\\sqrt{81}=9$$\n",
    "$$l_{21}=\\frac{a_{21}}{l_{11}}=\\frac{-45}{9}=-5$$\n",
    "$$l_{31}=\\frac{a_{31}}{l_{11}}=\\frac{45}{9}=5$$\n",
    "$$l_{22}=\\sqrt{a_{22}-l_{21}^{2}}=\\sqrt{50 - 25}=\\sqrt{25}=5$$\n",
    "$$l_{32}=\\frac{1}{l_{22}}\\left ( a_{32}-l_{21}l_{31} \\right)=\\frac{1}{5}(-15+25)=\\frac{10}{5}=2$$\n",
    "$$l_{33}=\\sqrt{a_{33}-l_{31}^{2}-l_{32}^{2}}=\\sqrt{38-25-4}=\\sqrt{9}=3.$$\n",
    "\n",
    "$$L = \\begin{pmatrix}\n",
    "9 & 0 & 0 \\\\ \n",
    "-5 & 5 & 0 \\\\ \n",
    "5 & 2 & 3\n",
    "\\end{pmatrix}, \n",
    "\\; \\;\n",
    "L^{T} = \\begin{pmatrix}\n",
    "9 & -5 & 5 \\\\ \n",
    "0 & 5 & 2 \\\\ \n",
    "0 & 0 & 3\n",
    "\\end{pmatrix}$$\n",
    "$$\\begin{cases}\n",
    "9y_1=531, \\\\\n",
    "-5y_1+5y_2=-460, \\\\\n",
    "5y_1+2y_2+3y_3=193\n",
    "\\end{cases} \n",
    "\\,\\,\\,\\,\\,\\Rightarrow \\,\\,\\,\\,\\,\n",
    "\\begin{cases}\n",
    "y_1=59, \\\\\n",
    "y_2=-33, \\\\\n",
    "y_3=-12.\n",
    "\\end{cases}$$\n",
    "### $$\\begin{cases}\n",
    "9x_1-5x_2+5x_3=59, \\\\\n",
    "5x_2+2x_3=-33, \\\\\n",
    "3x_{3}=-12.\n",
    "\\end{cases}\n",
    "\\,\\,\\,\\,\\,\\Rightarrow \\,\\,\\,\\,\\,\n",
    "\\begin{cases}\n",
    "x_1=6, \\\\\n",
    "x_2=-5, \\\\\n",
    "x_3=-4.\n",
    "\\end{cases}$$\n",
    "Ответ: $(6,-5,-4)$"
   ]
  }
 ],
 "metadata": {
  "colab": {
   "provenance": []
  },
  "kernelspec": {
   "display_name": "Python 3 (ipykernel)",
   "language": "python",
   "name": "python3"
  },
  "language_info": {
   "codemirror_mode": {
    "name": "ipython",
    "version": 3
   },
   "file_extension": ".py",
   "mimetype": "text/x-python",
   "name": "python",
   "nbconvert_exporter": "python",
   "pygments_lexer": "ipython3",
   "version": "3.9.13"
  }
 },
 "nbformat": 4,
 "nbformat_minor": 1
}
